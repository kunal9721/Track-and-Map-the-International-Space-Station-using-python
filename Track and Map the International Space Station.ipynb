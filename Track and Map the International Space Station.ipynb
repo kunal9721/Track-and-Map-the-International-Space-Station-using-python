{
 "cells": [
  {
   "cell_type": "markdown",
   "metadata": {},
   "source": [
    "## Space Station Mapping"
   ]
  },
  {
   "cell_type": "code",
   "execution_count": 1,
   "metadata": {},
   "outputs": [
    {
     "data": {
      "text/plain": [
       "{'number': 3,\n",
       " 'people': [{'craft': 'ISS', 'name': 'Chris Cassidy'},\n",
       "  {'craft': 'ISS', 'name': 'Anatoly Ivanishin'},\n",
       "  {'craft': 'ISS', 'name': 'Ivan Vagner'}],\n",
       " 'message': 'success'}"
      ]
     },
     "execution_count": 1,
     "metadata": {},
     "output_type": "execute_result"
    }
   ],
   "source": [
    "### Who is in space right now?\n",
    "\n",
    "import requests\n",
    "r = requests.get(url='http://api.open-notify.org/astros.json')\n",
    "r.json()\n",
    "    "
   ]
  },
  {
   "cell_type": "markdown",
   "metadata": {},
   "source": [
    "### Map ISS "
   ]
  },
  {
   "cell_type": "code",
   "execution_count": 2,
   "metadata": {},
   "outputs": [],
   "source": [
    "import pandas as pd\n",
    "from PIL import Image"
   ]
  },
  {
   "cell_type": "code",
   "execution_count": 3,
   "metadata": {},
   "outputs": [
    {
     "data": {
      "image/png": "[encoded data removed]",
      "text/plain": [
       "<PIL.GifImagePlugin.GifImageFile image mode=P size=604x305 at 0x1CAA1496D88>"
      ]
     },
     "execution_count": 3,
     "metadata": {},
     "output_type": "execute_result"
    }
   ],
   "source": [
    "#Download image of a map\n",
    "# http://www.satsig.net/lat_long.html\n",
    "\n",
    "\n",
    "img = Image.open('world105.png') \n",
    "img"
   ]
  },
  {
   "cell_type": "code",
   "execution_count": 4,
   "metadata": {},
   "outputs": [
    {
     "data": {
      "text/plain": [
       "(277.77777777777777, 0.0)"
      ]
     },
     "execution_count": 4,
     "metadata": {},
     "output_type": "execute_result"
    }
   ],
   "source": [
    "# take a lat lon and return a pixel coordinate \n",
    "# http://www.satsig.net/lat_long.html\n",
    "\n",
    "def translate_geo_to_pixels(longitude, latitude, max_x_px, max_y_px):\n",
    "    # y = -90 to 90\n",
    "    # x = -180 to 180\n",
    "    scale_x = (((longitude + 180) / 360) * max_x_px)\n",
    "    scale_y = (((latitude - 90) / 180) * max_y_px)\n",
    "    \n",
    "    return scale_x, scale_y\n",
    "    \n",
    "    \n",
    "translate_geo_to_pixels(20,90, 500, 250)"
   ]
  },
  {
   "cell_type": "code",
   "execution_count": null,
   "metadata": {},
   "outputs": [],
   "source": [
    "# get international space station geo location\n",
    "# http://open-notify.org/Open-Notify-API/ISS-Location-Now/\n",
    "\n",
    "def get_space_station_location():\n",
    "    r = requests.get(url='http://api.open-notify.org/iss-now.json')\n",
    "    space_station_location = (r.json())\n",
    "\n",
    "\n",
    "    space_station_longitude = float(space_station_location['iss_position']['longitude'])\n",
    "    print('space_station_longitude', space_station_longitude)\n",
    "    space_station_latitude = float(space_station_location['iss_position']['latitude'])\n",
    "    print('space_station_latitude', space_station_latitude)\n",
    "    \n",
    "    return (space_station_longitude, space_station_latitude)"
   ]
  },
  {
   "cell_type": "code",
   "execution_count": null,
   "metadata": {},
   "outputs": [],
   "source": [
    "# install Basemap -\n",
    "# https://matplotlib.org/basemap/users/installing.html\n",
    "\n",
    "from mpl_toolkits.basemap import Basemap\n",
    "import matplotlib.pyplot as plt"
   ]
  },
  {
   "cell_type": "code",
   "execution_count": null,
   "metadata": {},
   "outputs": [],
   "source": [
    "get_space_station_location()"
   ]
  },
  {
   "cell_type": "code",
   "execution_count": null,
   "metadata": {},
   "outputs": [],
   "source": [
    "# Set the dimension of the figure\n",
    "plt.figure(figsize=(16, 8))\n",
    "\n",
    "# Make the background map\n",
    "m=Basemap(llcrnrlon=-180, llcrnrlat=-65,urcrnrlon=180,urcrnrlat=80)\n",
    "m.drawmapboundary(fill_color='#A6CAE0', linewidth=0)\n",
    "m.fillcontinents(color='grey', alpha=0.3)\n",
    "m.drawcoastlines(linewidth=0.1, color=\"white\")\n",
    "\n",
    "# Add a point per position\n",
    "\n",
    "space_station_longitude, space_station_latitude = get_space_station_location()\n",
    "m.scatter(space_station_longitude, space_station_latitude, s=200, alpha=0.4,color='blue')\n",
    "\n",
    " \n",
    "plt.title('Internation Space Station Location' , fontsize=30) "
   ]
  },
  {
   "cell_type": "code",
   "execution_count": null,
   "metadata": {},
   "outputs": [],
   "source": [
    "print(space_station_longitude, space_station_latitude)"
   ]
  },
  {
   "cell_type": "code",
   "execution_count": null,
   "metadata": {},
   "outputs": [],
   "source": [
    "# figure out translation of space_station_longitude/space_station_latitude to screen pixels\n",
    "# imagine 0,0 to 300,100\n",
    "\n",
    "translate_geo_to_pixels(space_station_longitude, space_station_latitude, 300, 100)"
   ]
  },
  {
   "cell_type": "code",
   "execution_count": null,
   "metadata": {},
   "outputs": [],
   "source": []
  }
 ],
 "metadata": {
  "kernelspec": {
   "display_name": "Python 3",
   "language": "python",
   "name": "python3"
  },
  "language_info": {
   "codemirror_mode": {
    "name": "ipython",
    "version": 3
   },
   "file_extension": ".py",
   "mimetype": "text/x-python",
   "name": "python",
   "nbconvert_exporter": "python",
   "pygments_lexer": "ipython3",
   "version": "3.7.6"
  }
 },
 "nbformat": 4,
 "nbformat_minor": 4
}
